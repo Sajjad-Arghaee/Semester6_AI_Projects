{
 "cells": [
  {
   "cell_type": "code",
   "execution_count": null,
   "id": "918db77c-ba7c-462e-9091-0923812de344",
   "metadata": {},
   "outputs": [],
   "source": [
    "import cv2\n",
    "import numpy as np\n",
    "from matplotlib import pyplot as plt\n",
    "\n",
    "# Load the grayscale image\n",
    "img = cv2.imread('grayscale_image.jpg', 0)\n",
    "\n",
    "# Compute the histogram using OpenCV's calcHist function\n",
    "hist = cv2.calcHist([img], [0], None, [256], [0, 256])\n",
    "\n",
    "# Display the histogram using matplotlib\n",
    "plt.plot(hist)\n",
    "plt.xlim([0, 256])\n",
    "plt.show()\n"
   ]
  }
 ],
 "metadata": {
  "kernelspec": {
   "display_name": "Python 3 (ipykernel)",
   "language": "python",
   "name": "python3"
  },
  "language_info": {
   "codemirror_mode": {
    "name": "ipython",
    "version": 3
   },
   "file_extension": ".py",
   "mimetype": "text/x-python",
   "name": "python",
   "nbconvert_exporter": "python",
   "pygments_lexer": "ipython3",
   "version": "3.9.12"
  }
 },
 "nbformat": 4,
 "nbformat_minor": 5
}
